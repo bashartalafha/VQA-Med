{
 "cells": [
  {
   "cell_type": "markdown",
   "metadata": {},
   "source": [
    "# Simple RNN:"
   ]
  },
  {
   "cell_type": "markdown",
   "metadata": {},
   "source": [
    "<img src=\"https://github.com/zhiruiwang/Machine-Tranlsation/raw/004bd3c5fac7a0661ae2710026d6c4e2b66a38f5/images/rnn.png\"/>"
   ]
  },
  {
   "cell_type": "code",
   "execution_count": null,
   "metadata": {},
   "outputs": [],
   "source": [
    "inputs = Input(input_shape[1:])\n",
    "x = CuDNNGRU(128, return_sequences=True)(inputs) #OR LSTM\n",
    "predictions = TimeDistributed(Dense(french_vocab_size, activation='softmax'))(x)\n",
    "model = Model(inputs=inputs, outputs=predictions)\n",
    "model.compile(loss=sparse_categorical_crossentropy,optimizer=Adam(), metrics=['accuracy'])\n",
    "\n",
    "#Reference:\n",
    "#https://github.com/zhiruiwang/Machine-Tranlsation/blob/master/machine_translation.ipynb"
   ]
  },
  {
   "cell_type": "markdown",
   "metadata": {},
   "source": [
    "# Embedding RNN:"
   ]
  },
  {
   "cell_type": "markdown",
   "metadata": {},
   "source": [
    "<img src=\"https://github.com/zhiruiwang/Machine-Tranlsation/raw/004bd3c5fac7a0661ae2710026d6c4e2b66a38f5/images/embedding.png\"/>"
   ]
  },
  {
   "cell_type": "code",
   "execution_count": null,
   "metadata": {},
   "outputs": [],
   "source": [
    "inputs = Input(input_shape[1:])\n",
    "x = Embedding(english_vocab_size, 128, input_length=input_shape[1])(inputs)\n",
    "x = CuDNNGRU(128, return_sequences=True)(x) #OR LSTM\n",
    "predictions = TimeDistributed(Dense(french_vocab_size, activation='softmax'))(x)\n",
    "model = Model(inputs=inputs, outputs=predictions)\n",
    "model.compile(loss=sparse_categorical_crossentropy, optimizer=Adam(), metrics=['accuracy'])"
   ]
  },
  {
   "cell_type": "markdown",
   "metadata": {},
   "source": [
    "# Bidirectional RNNs:"
   ]
  },
  {
   "cell_type": "markdown",
   "metadata": {},
   "source": [
    "<img src=\"https://github.com/zhiruiwang/Machine-Tranlsation/raw/004bd3c5fac7a0661ae2710026d6c4e2b66a38f5/images/bidirectional.png\" />"
   ]
  },
  {
   "cell_type": "code",
   "execution_count": null,
   "metadata": {},
   "outputs": [],
   "source": [
    "inputs = Input(input_shape[1:])\n",
    "x = Bidirectional(CuDNNGRU(128, return_sequences=True))(inputs) #OR LSTMs\n",
    "predictions = TimeDistributed(Dense(french_vocab_size, activation='softmax'))(x)\n",
    "model = Model(inputs=inputs, outputs=predictions)\n",
    "model.compile(loss=sparse_categorical_crossentropy, optimizer=Adam(), metrics=['accuracy'])"
   ]
  },
  {
   "cell_type": "markdown",
   "metadata": {},
   "source": [
    "# Encoder-Decoder:"
   ]
  },
  {
   "cell_type": "markdown",
   "metadata": {},
   "source": [
    "<img src=\"https://www.tensorflow.org/versions/r1.0/images/basic_seq2seq.png\" />"
   ]
  },
  {
   "cell_type": "code",
   "execution_count": null,
   "metadata": {},
   "outputs": [],
   "source": [
    "encoder_inputs = Input(shape=(None, num_encoder_tokens))\n",
    "encoder = LSTM(latent_dim, return_state=True)\n",
    "encoder_outputs, state_h, state_c = encoder(encoder_inputs)\n",
    "encoder_states = [state_h, state_c]\n",
    "\n",
    "decoder_inputs = Input(shape=(None, num_decoder_tokens))\n",
    "decoder_lstm = LSTM(latent_dim, return_sequences=True, return_state=True)\n",
    "decoder_outputs, _, _ = decoder_lstm(decoder_inputs, initial_state=encoder_states)\n",
    "decoder_dense = Dense(num_decoder_tokens, activation='softmax')\n",
    "decoder_outputs = decoder_dense(decoder_outputs)\n",
    "\n",
    "model = Model([encoder_inputs, decoder_inputs], decoder_outputs)\n",
    "plot_model(model, to_file='model.png', show_shapes=True)\n",
    "\n",
    "#Reference:\n",
    "#https://machinelearningmastery.com/define-encoder-decoder-sequence-sequence-model-neural-machine-translation-keras/"
   ]
  },
  {
   "cell_type": "code",
   "execution_count": null,
   "metadata": {},
   "outputs": [],
   "source": []
  }
 ],
 "metadata": {
  "kernelspec": {
   "display_name": "Python 3",
   "language": "python",
   "name": "python3"
  },
  "language_info": {
   "codemirror_mode": {
    "name": "ipython",
    "version": 3
   },
   "file_extension": ".py",
   "mimetype": "text/x-python",
   "name": "python",
   "nbconvert_exporter": "python",
   "pygments_lexer": "ipython3",
   "version": "3.5.2"
  }
 },
 "nbformat": 4,
 "nbformat_minor": 2
}
